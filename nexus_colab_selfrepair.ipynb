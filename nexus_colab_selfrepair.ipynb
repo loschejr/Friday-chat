{
  "nbformat": 4,
  "nbformat_minor": 0,
  "metadata": {
    "colab": {
      "provenance": [],
      "authorship_tag": "ABX9TyNRbCWhegHlGGZhTe0XkmCH",
      "include_colab_link": true
    },
    "kernelspec": {
      "name": "python3",
      "display_name": "Python 3"
    },
    "language_info": {
      "name": "python"
    }
  },
  "cells": [
    {
      "cell_type": "markdown",
      "metadata": {
        "id": "view-in-github",
        "colab_type": "text"
      },
      "source": [
        "<a href=\"https://colab.research.google.com/github/loschejr/Friday-chat/blob/main/nexus_colab_selfrepair.ipynb\" target=\"_parent\"><img src=\"https://colab.research.google.com/assets/colab-badge.svg\" alt=\"Open In Colab\"/></a>"
      ]
    },
    {
      "cell_type": "code",
      "execution_count": null,
      "metadata": {
        "colab": {
          "base_uri": "https://localhost:8080/"
        },
        "id": "4z0pT6Mxvs9b",
        "outputId": "83f7c26b-eea0-4342-a479-6a795454aea6"
      },
      "outputs": [
        {
          "output_type": "stream",
          "name": "stdout",
          "text": [
            "\u001b[2K   \u001b[90m━━━━━━━━━━━━━━━━━━━━━━━━━━━━━━━━━━━━━━━━\u001b[0m \u001b[32m363.4/363.4 MB\u001b[0m \u001b[31m4.5 MB/s\u001b[0m eta \u001b[36m0:00:00\u001b[0m\n",
            "\u001b[2K   \u001b[90m━━━━━━━━━━━━━━━━━━━━━━━━━━━━━━━━━━━━━━━━\u001b[0m \u001b[32m13.8/13.8 MB\u001b[0m \u001b[31m58.6 MB/s\u001b[0m eta \u001b[36m0:00:00\u001b[0m\n",
            "\u001b[2K   \u001b[90m━━━━━━━━━━━━━━━━━━━━━━━━━━━━━━━━━━━━━━━━\u001b[0m \u001b[32m24.6/24.6 MB\u001b[0m \u001b[31m25.0 MB/s\u001b[0m eta \u001b[36m0:00:00\u001b[0m\n",
            "\u001b[2K   \u001b[90m━━━━━━━━━━━━━━━━━━━━━━━━━━━━━━━━━━━━━━━━\u001b[0m \u001b[32m883.7/883.7 kB\u001b[0m \u001b[31m21.5 MB/s\u001b[0m eta \u001b[36m0:00:00\u001b[0m\n",
            "\u001b[2K   \u001b[90m━━━━━━━━━━━━━━━━━━━━━━━━━━━━━━━━━━━━━━━━\u001b[0m \u001b[32m664.8/664.8 MB\u001b[0m \u001b[31m2.0 MB/s\u001b[0m eta \u001b[36m0:00:00\u001b[0m\n",
            "\u001b[2K   \u001b[90m━━━━━━━━━━━━━━━━━━━━━━━━━━━━━━━━━━━━━━━━\u001b[0m \u001b[32m211.5/211.5 MB\u001b[0m \u001b[31m4.2 MB/s\u001b[0m eta \u001b[36m0:00:00\u001b[0m\n",
            "\u001b[2K   \u001b[90m━━━━━━━━━━━━━━━━━━━━━━━━━━━━━━━━━━━━━━━━\u001b[0m \u001b[32m56.3/56.3 MB\u001b[0m \u001b[31m12.8 MB/s\u001b[0m eta \u001b[36m0:00:00\u001b[0m\n",
            "\u001b[2K   \u001b[90m━━━━━━━━━━━━━━━━━━━━━━━━━━━━━━━━━━━━━━━━\u001b[0m \u001b[32m127.9/127.9 MB\u001b[0m \u001b[31m7.2 MB/s\u001b[0m eta \u001b[36m0:00:00\u001b[0m\n",
            "\u001b[2K   \u001b[90m━━━━━━━━━━━━━━━━━━━━━━━━━━━━━━━━━━━━━━━━\u001b[0m \u001b[32m207.5/207.5 MB\u001b[0m \u001b[31m4.9 MB/s\u001b[0m eta \u001b[36m0:00:00\u001b[0m\n",
            "\u001b[2K   \u001b[90m━━━━━━━━━━━━━━━━━━━━━━━━━━━━━━━━━━━━━━━━\u001b[0m \u001b[32m188.7/188.7 MB\u001b[0m \u001b[31m4.5 MB/s\u001b[0m eta \u001b[36m0:00:00\u001b[0m\n",
            "\u001b[2K   \u001b[90m━━━━━━━━━━━━━━━━━━━━━━━━━━━━━━━━━━━━━━━━\u001b[0m \u001b[32m21.1/21.1 MB\u001b[0m \u001b[31m40.7 MB/s\u001b[0m eta \u001b[36m0:00:00\u001b[0m\n",
            "\u001b[?25h"
          ]
        }
      ],
      "source": [
        "# Cell 0: Environment Setup (Run First)\n",
        "!pip install -q flask transformers[torch] pyngrok\n",
        "!fuser -k 9000/tcp 2>/dev/null  # Clean previous sessions\n",
        "from huggingface_hub import notebook_login\n",
        "notebook_login()\n",
        "\n",
        "# Cell 1: Self-Healing Model Loader\n",
        "from transformers import pipeline\n",
        "import warnings\n",
        "warnings.filterwarnings(\"ignore\")\n",
        "\n",
        "def load_model_with_fallback():\n",
        "    try:\n",
        "        return pipeline(\n",
        "            \"text-generation\",\n",
        "            model=\"HuggingFaceH4/zephyr-7b-beta\",\n",
        "            device_map=\"auto\",\n",
        "            torch_dtype=\"auto\"\n",
        "        )\n",
        "    except Exception as e:\n",
        "        print(f\"⚠️ Model load failed: {str(e)}\")\n",
        "        print(\"🔄 Falling back to smaller model...\")\n",
        "        return pipeline(\"text-generation\", model=\"gpt2\")\n",
        "\n",
        "llm = load_model_with_fallback()\n",
        "\n",
        "# Cell 2: Robust Flask API\n",
        "from flask import Flask, request, jsonify\n",
        "import threading\n",
        "from pyngrok import ngrok\n",
        "\n",
        "app = Flask(__name__)\n",
        "\n",
        "@app.route('/research', methods=['POST'])\n",
        "def research():\n",
        "    try:\n",
        "        result = llm(\n",
        "            request.json[\"topic\"],\n",
        "            max_new_tokens=150,\n",
        "            temperature=0.7\n",
        "        )\n",
        "        return jsonify({\n",
        "            \"status\": \"success\",\n",
        "            \"output\": result[0][\"generated_text\"]\n",
        "        })\n",
        "    except Exception as e:\n",
        "        return jsonify({\n",
        "            \"status\": \"error\",\n",
        "            \"message\": str(e),\n",
        "            \"fallback\": f\"See https://en.wikipedia.org/wiki/{request.json['topic'].replace(' ', '_')}\"\n",
        "        }), 500\n",
        "\n",
        "def run_server():\n",
        "    app.run(host='0.0.0.0', port=9000)\n",
        "\n",
        "# Start with ngrok for persistent URL\n",
        "threading.Thread(target=run_server, daemon=True).start()\n",
        "public_url = ngrok.connect(9000, bind_tls=True)\n",
        "print(f\"🔗 Your stable endpoint: {public_url}\")"
      ]
    }
  ]
}