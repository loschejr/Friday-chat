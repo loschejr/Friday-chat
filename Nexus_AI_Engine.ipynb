{
  "nbformat": 4,
  "nbformat_minor": 0,
  "metadata": {
    "colab": {
      "provenance": [],
      "authorship_tag": "ABX9TyNEnSUmNwTxdsugUBD7UX8j",
      "include_colab_link": true
    },
    "kernelspec": {
      "name": "python3",
      "display_name": "Python 3"
    },
    "language_info": {
      "name": "python"
    }
  },
  "cells": [
    {
      "cell_type": "markdown",
      "metadata": {
        "id": "view-in-github",
        "colab_type": "text"
      },
      "source": [
        "<a href=\"https://colab.research.google.com/github/loschejr/Friday-chat/blob/main/Nexus_AI_Engine.ipynb\" target=\"_parent\"><img src=\"https://colab.research.google.com/assets/colab-badge.svg\" alt=\"Open In Colab\"/></a>"
      ]
    },
    {
      "cell_type": "code",
      "execution_count": null,
      "metadata": {
        "colab": {
          "base_uri": "https://localhost:8080/"
        },
        "id": "yeDM5Lqix_BW",
        "outputId": "752a29f0-35d0-4e50-a407-9a45fbb32bcf"
      },
      "outputs": [
        {
          "output_type": "stream",
          "name": "stdout",
          "text": [
            "\u001b[2K   \u001b[90m━━━━━━━━━━━━━━━━━━━━━━━━━━━━━━━━━━━━━━━━\u001b[0m \u001b[32m363.4/363.4 MB\u001b[0m \u001b[31m4.0 MB/s\u001b[0m eta \u001b[36m0:00:00\u001b[0m\n",
            "\u001b[2K   \u001b[90m━━━━━━━━━━━━━━━━━━━━━━━━━━━━━━━━━━━━━━━━\u001b[0m \u001b[32m13.8/13.8 MB\u001b[0m \u001b[31m58.0 MB/s\u001b[0m eta \u001b[36m0:00:00\u001b[0m\n",
            "\u001b[2K   \u001b[90m━━━━━━━━━━━━━━━━━━━━━━━━━━━━━━━━━━━━━━━━\u001b[0m \u001b[32m24.6/24.6 MB\u001b[0m \u001b[31m27.6 MB/s\u001b[0m eta \u001b[36m0:00:00\u001b[0m\n",
            "\u001b[2K   \u001b[90m━━━━━━━━━━━━━━━━━━━━━━━━━━━━━━━━━━━━━━━━\u001b[0m \u001b[32m883.7/883.7 kB\u001b[0m \u001b[31m35.0 MB/s\u001b[0m eta \u001b[36m0:00:00\u001b[0m\n",
            "\u001b[2K   \u001b[90m━━━━━━━━━━━━━━━━━━━━━━━━━━━━━━━━━━━━━━━━\u001b[0m \u001b[32m664.8/664.8 MB\u001b[0m \u001b[31m2.6 MB/s\u001b[0m eta \u001b[36m0:00:00\u001b[0m\n",
            "\u001b[2K   \u001b[90m━━━━━━━━━━━━━━━━━━━━━━━━━━━━━━━━━━━━━━━━\u001b[0m \u001b[32m211.5/211.5 MB\u001b[0m \u001b[31m3.3 MB/s\u001b[0m eta \u001b[36m0:00:00\u001b[0m\n",
            "\u001b[2K   \u001b[90m━━━━━━━━━━━━━━━━━━━━━━━━━━━━━━━━━━━━━━━━\u001b[0m \u001b[32m56.3/56.3 MB\u001b[0m \u001b[31m9.1 MB/s\u001b[0m eta \u001b[36m0:00:00\u001b[0m\n",
            "\u001b[2K   \u001b[90m━━━━━━━━━━━━━━━━━━━━━━━━━━━━━━━━━━━━━━━━\u001b[0m \u001b[32m127.9/127.9 MB\u001b[0m \u001b[31m4.2 MB/s\u001b[0m eta \u001b[36m0:00:00\u001b[0m\n",
            "\u001b[2K   \u001b[90m━━━━━━━━━━━━━━━━━━━━━━━━━━━━━━━━━━━━━━━━\u001b[0m \u001b[32m207.5/207.5 MB\u001b[0m \u001b[31m5.2 MB/s\u001b[0m eta \u001b[36m0:00:00\u001b[0m\n",
            "\u001b[2K   \u001b[90m━━━━━━━━━━━━━━━━━━━━━━━━━━━━━━━━━━━━━━━━\u001b[0m \u001b[32m188.7/188.7 MB\u001b[0m \u001b[31m4.7 MB/s\u001b[0m eta \u001b[36m0:00:00\u001b[0m\n",
            "\u001b[2K   \u001b[90m━━━━━━━━━━━━━━━━━━━━━━━━━━━━━━━━━━━━━━━━\u001b[0m \u001b[32m21.1/21.1 MB\u001b[0m \u001b[31m28.1 MB/s\u001b[0m eta \u001b[36m0:00:00\u001b[0m\n",
            "\u001b[?25h"
          ]
        }
      ],
      "source": [
        "# Cell 1: Setup & Authentication\n",
        "!pip install -q flask transformers[torch] pyngrok psutil\n",
        "!fuser -k 9000/tcp 2>/dev/null  # Clean old processes\n",
        "\n",
        "from huggingface_hub import notebook_login\n",
        "notebook_login()  # Paste your HF token when prompted\n",
        "\n",
        "# Cell 2: Self-Healing AI Core\n",
        "from transformers import pipeline\n",
        "import warnings\n",
        "warnings.filterwarnings(\"ignore\")\n",
        "\n",
        "class NexusAI:\n",
        "    def __init__(self):\n",
        "        self.llm = self._load_model_with_fallback()\n",
        "\n",
        "    def _load_model_with_fallback(self):\n",
        "        try:\n",
        "            return pipeline(\n",
        "                \"text-generation\",\n",
        "                model=\"HuggingFaceH4/zephyr-7b-beta\",\n",
        "                device_map=\"auto\",\n",
        "                torch_dtype=\"auto\"\n",
        "            )\n",
        "        except:\n",
        "            print(\"🔄 Falling back to GPT-2\")\n",
        "            return pipeline(\"text-generation\", model=\"gpt2\")\n",
        "\n",
        "# Cell 3: Flask API Server\n",
        "from flask import Flask, request, jsonify\n",
        "import threading\n",
        "from pyngrok import ngrok\n",
        "\n",
        "app = Flask(__name__)\n",
        "nexus = NexusAI()\n",
        "\n",
        "@app.route('/research', methods=['POST'])\n",
        "def research():\n",
        "    try:\n",
        "        result = nexus.llm(\n",
        "            request.json[\"topic\"],\n",
        "            max_new_tokens=200,\n",
        "            temperature=0.7\n",
        "        )\n",
        "        return jsonify({\"output\": result[0][\"generated_text\"]})\n",
        "    except:\n",
        "        return jsonify({\"error\": \"Research failed\"}), 500\n",
        "\n",
        "def run_server():\n",
        "    app.run(host='0.0.0.0', port=9000)\n",
        "\n",
        "# Start with ngrok\n",
        "threading.Thread(target=run_server, daemon=True).start()\n",
        "public_url = ngrok.connect(9000, bind_tls=True)\n",
        "print(f\"🌟 Your Nexus AI is ready at: {public_url}\")\n",
        "\n",
        "# Cell 4: Health Monitor (Optional)\n",
        "import psutil, time\n",
        "\n",
        "def monitor():\n",
        "    while True:\n",
        "        cpu = psutil.cpu_percent()\n",
        "        mem = psutil.virtual_memory().percent\n",
        "        print(f\"📊 Health | CPU: {cpu}% | RAM: {mem}%\")\n",
        "        time.sleep(30)\n",
        "\n",
        "threading.Thread(target=monitor, daemon=True).start()"
      ]
    }
  ]
}